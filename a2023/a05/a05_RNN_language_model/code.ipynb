{
 "cells": [
  {
   "attachments": {},
   "cell_type": "markdown",
   "metadata": {},
   "source": [
    "Great! It's nice to see that you already have some experience with neural networks and PyTorch. For today's lesson, we'll work on building a simple language model using an RNN in PyTorch.\n",
    "\n",
    "Here's the plan for our 60-minute session:\n",
    "\n",
    "* Briefly discuss RNNs (5 min)\n",
    "* Prepare the dataset (10 min)\n",
    "* Implement a simple RNN model in PyTorch (15 min)\n",
    "* Train the model (10 min)\n",
    "* Test the model (10 min)\n",
    "* Wrap up and discuss improvements (10 min)\n",
    "\n",
    "Let's get started with a brief discussion of RNNs.\n",
    "\n",
    "## 1. Briefly discuss RNNs (5 min)\n",
    "\n",
    "Recurrent Neural Networks (RNNs) are a type of neural network designed to handle sequential data. They can maintain a hidden state that gets updated at each step in the sequence, making them well-suited for tasks like language modeling.\n",
    "\n",
    "For our simple language model, we'll use a character-level RNN. It will predict the next character in a sequence given the previous characters. This is a simpler task compared to predicting the next word, as GPT models do.\n",
    "\n",
    "## Next steps:\n",
    "\n",
    "Please let me know if you are familiar with RNNs and if you have any questions about them. If you're ready to move on, I'll guide you through preparing the dataset for our language model."
   ]
  },
  {
   "attachments": {},
   "cell_type": "markdown",
   "metadata": {},
   "source": [
    "Great! Let's begin with preparing the dataset.\n",
    "\n",
    "## 2. Prepare the dataset (10 min)\n",
    "\n",
    "For our simple language model, we'll use a text file as our dataset. You can choose any text file you like, such as a book from Project Gutenberg or a simple text file with some sample sentences.\n",
    "\n",
    "Follow these steps to prepare the dataset:\n",
    "\n",
    "* Load the text file and preprocess it (lowercase, remove special characters, etc.)\n",
    "* Create a dictionary that maps characters to integers and another dictionary that maps integers to characters. We'll use these dictionaries to convert the text to numbers and vice versa.\n",
    "* Convert the text to a sequence of integers using the character-to-integer dictionary.\n",
    "* Create input and target sequences. For each sequence of length n in the input, the corresponding target sequence should have the same length and contain the next character in the text for each character in the input sequence.\n",
    "\n",
    "Here's some code to help you get started:"
   ]
  },
  {
   "cell_type": "code",
   "execution_count": 19,
   "metadata": {},
   "outputs": [],
   "source": [
    "import numpy as np\n",
    "\n",
    "# Load and preprocess the text\n",
    "with open(\"input.txt\", \"r\") as f:\n",
    "    text = f.read().lower()\n",
    "    text = ''.join(c for c in text if c.isalnum() or c.isspace())"
   ]
  },
  {
   "cell_type": "code",
   "execution_count": 20,
   "metadata": {},
   "outputs": [],
   "source": [
    "# Create dictionaries\n",
    "chars = sorted(list(set(text)))\n",
    "char_to_int = {c: i for i, c in enumerate(chars)}\n",
    "int_to_char = {i: c for i, c in enumerate(chars)}"
   ]
  },
  {
   "cell_type": "code",
   "execution_count": 24,
   "metadata": {},
   "outputs": [],
   "source": [
    "# Convert text to integers\n",
    "int_text = [char_to_int[c] for c in text]"
   ]
  },
  {
   "cell_type": "code",
   "execution_count": 25,
   "metadata": {},
   "outputs": [],
   "source": [
    "# Create input and target sequences\n",
    "sequence_length = 50\n",
    "X, y = [], []\n",
    "\n",
    "for i in range(len(int_text) - sequence_length):\n",
    "    X.append(int_text[i:i + sequence_length])\n",
    "    y.append(int_text[i + 1:i + sequence_length + 1])\n",
    "\n",
    "X = np.array(X)\n",
    "y = np.array(y)"
   ]
  },
  {
   "attachments": {},
   "cell_type": "markdown",
   "metadata": {},
   "source": [
    "## Now let's move on to implementing the RNN model.\n",
    "\n",
    "### 3. Implement a simple RNN model in PyTorch (15 min)\n",
    "\n",
    "We'll create a simple RNN model using PyTorch's nn.RNN module along with a fully connected layer for the final output. Our model will have the following layers:\n",
    "\n",
    "* An embedding layer (nn.Embedding) to convert the input character integers to embeddings.\n",
    "* An RNN layer (nn.RNN) that will maintain hidden states and learn the sequence patterns.\n",
    "* A fully connected output layer (nn.Linear) that will produce the probabilities for the next character.\n",
    "\n",
    "Here's a simple implementation:\n"
   ]
  },
  {
   "cell_type": "code",
   "execution_count": 30,
   "metadata": {},
   "outputs": [],
   "source": [
    "import torch\n",
    "import torch.nn as nn\n",
    "\n",
    "class SimpleRNN(nn.Module):\n",
    "    def __init__(self, input_size, embed_size, hidden_size, output_size):\n",
    "        super(SimpleRNN, self).__init__()\n",
    "        self.embed_size = embed_size\n",
    "        self.hidden_size = hidden_size\n",
    "        self.output_size = output_size\n",
    "\n",
    "        self.embedding = nn.Embedding(input_size, embed_size)\n",
    "        self.rnn = nn.RNN(embed_size, hidden_size, batch_first=True)\n",
    "        self.fc = nn.Linear(hidden_size, output_size)\n",
    "\n",
    "    def forward(self, x, hidden):\n",
    "        x = self.embedding(x)\n",
    "        x, hidden = self.rnn(x, hidden)\n",
    "        x = self.fc(x)\n",
    "        return x, hidden\n",
    "\n",
    "    def init_hidden(self, batch_size):\n",
    "        return torch.zeros(1, batch_size, self.hidden_size)\n",
    "\n",
    "input_size = len(chars)\n",
    "embed_size = 128\n",
    "hidden_size = 256\n",
    "output_size = len(chars)\n",
    "\n",
    "model = SimpleRNN(input_size, embed_size, hidden_size, output_size)"
   ]
  }
 ],
 "metadata": {
  "kernelspec": {
   "display_name": ".venv",
   "language": "python",
   "name": "python3"
  },
  "language_info": {
   "codemirror_mode": {
    "name": "ipython",
    "version": 3
   },
   "file_extension": ".py",
   "mimetype": "text/x-python",
   "name": "python",
   "nbconvert_exporter": "python",
   "pygments_lexer": "ipython3",
   "version": "3.11.3"
  },
  "orig_nbformat": 4
 },
 "nbformat": 4,
 "nbformat_minor": 2
}
