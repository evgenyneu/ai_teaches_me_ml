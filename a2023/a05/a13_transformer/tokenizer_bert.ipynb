{
 "cells": [
  {
   "cell_type": "code",
   "execution_count": null,
   "metadata": {},
   "outputs": [],
   "source": [
    "from transformers import BertTokenizer\n",
    "\n",
    "# Create the tokenizer\n",
    "tokenizer = BertTokenizer.from_pretrained('bert-base-cased')\n",
    "\n",
    "newline_token = '[NL]'\n",
    "tokenizer.add_tokens([newline_token], special_tokens=True) \n",
    "\n",
    "# Tokenize the text\n",
    "text = \"Hello\\nworld. This is a new world, and I'm happy to be here!\"\n",
    "text = text.replace(\"\\n\", newline_token)\n",
    "\n",
    "# Tokenize the text\n",
    "tokens = tokenizer.tokenize(text)\n",
    "print(len(tokens), tokens)\n",
    "\n",
    "# Convert tokens to IDs\n",
    "token_ids = tokenizer.convert_tokens_to_ids(tokens)\n",
    "\n",
    "# Join the tokens together to form the original text\n",
    "predicted_text = tokenizer.decode(token_ids, clean_up_tokenization_spaces=True)\n",
    "predicted_text = predicted_text.replace(newline_token, \"\\n\")\n",
    "\n",
    "# Print the predicted text\n",
    "print(predicted_text)"
   ]
  },
  {
   "cell_type": "code",
   "execution_count": null,
   "metadata": {},
   "outputs": [],
   "source": []
  }
 ],
 "metadata": {
  "kernelspec": {
   "display_name": ".venv",
   "language": "python",
   "name": "python3"
  },
  "language_info": {
   "codemirror_mode": {
    "name": "ipython",
    "version": 3
   },
   "file_extension": ".py",
   "mimetype": "text/x-python",
   "name": "python",
   "nbconvert_exporter": "python",
   "pygments_lexer": "ipython3",
   "version": "3.11.3"
  },
  "orig_nbformat": 4
 },
 "nbformat": 4,
 "nbformat_minor": 2
}
