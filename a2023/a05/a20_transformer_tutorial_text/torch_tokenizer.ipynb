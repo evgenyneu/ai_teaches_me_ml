{
 "cells": [
  {
   "attachments": {},
   "cell_type": "markdown",
   "metadata": {},
   "source": [
    "Learning how to use torch tokenizer"
   ]
  },
  {
   "cell_type": "code",
   "execution_count": null,
   "metadata": {},
   "outputs": [],
   "source": [
    "from torchtext.data.utils import get_tokenizer\n",
    "from torchtext.vocab import build_vocab_from_iterator\n",
    "\n",
    "text = 'Hello, this is a good life!'\n",
    "tokenizer = get_tokenizer('basic_english')  # 'spacy' for more sophisticated tokenization\n",
    "tokens = tokenizer(text)\n",
    "\n",
    "print(tokens)\n",
    "\n",
    "# Build a vocabulary\n",
    "vocab = build_vocab_from_iterator([tokens])\n",
    "\n",
    "# Convert tokens to their integer representations\n",
    "int_tokens = [vocab[token] for token in tokens]\n",
    "\n",
    "print(int_tokens)\n",
    "\n",
    "# Convert integers back to tokens\n",
    "tokens_from_int = vocab.lookup_tokens(int_tokens)\n",
    "# tokens_from_int = [vocab.itos[i] for i in int_tokens]\n",
    "\n",
    "# Join tokens back into a string\n",
    "text_from_int = ' '.join(tokens_from_int)\n",
    "\n",
    "print(text_from_int)\n"
   ]
  },
  {
   "cell_type": "code",
   "execution_count": null,
   "metadata": {},
   "outputs": [],
   "source": []
  }
 ],
 "metadata": {
  "kernelspec": {
   "display_name": ".venv",
   "language": "python",
   "name": "python3"
  },
  "language_info": {
   "codemirror_mode": {
    "name": "ipython",
    "version": 3
   },
   "file_extension": ".py",
   "mimetype": "text/x-python",
   "name": "python",
   "nbconvert_exporter": "python",
   "pygments_lexer": "ipython3",
   "version": "3.11.3"
  },
  "orig_nbformat": 4
 },
 "nbformat": 4,
 "nbformat_minor": 2
}
