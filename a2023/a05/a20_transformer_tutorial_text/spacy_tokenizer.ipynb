{
 "cells": [
  {
   "attachments": {},
   "cell_type": "markdown",
   "metadata": {},
   "source": [
    "Learning how to use spacy tokenizer  https://github.com/explosion/spaCy\n",
    "\n",
    "## Setup\n",
    "\n",
    "Download model:\n",
    "\n",
    "python -m spacy download en_core_web_sm"
   ]
  },
  {
   "cell_type": "code",
   "execution_count": null,
   "metadata": {},
   "outputs": [],
   "source": [
    "import spacy\n",
    "\n",
    "# Load the SpaCy model\n",
    "nlp = spacy.load('en_core_web_sm')\n",
    "\n",
    "# Original text\n",
    "text = 'Hello, this is a good life! Very good!'\n",
    "\n",
    "# Tokenize the text\n",
    "doc = nlp(text)\n",
    "tokens = [token.text for token in doc]\n",
    "\n",
    "# Build a vocabulary from the unique tokens and map both ways\n",
    "vocab = {token: i for i, token in enumerate(set(tokens))}\n",
    "vocab_inverse = {i: token for token, i in vocab.items()}\n",
    "\n",
    "# Map tokens to integers\n",
    "int_tokens = [vocab[token] for token in tokens]\n",
    "\n",
    "# Map integers back to tokens\n",
    "tokens_from_int = [vocab_inverse[i] for i in int_tokens]\n",
    "\n",
    "# Join tokens back into original text\n",
    "text_from_int = ''.join([doc[tokens.index(token)].text_with_ws for token in tokens_from_int])\n",
    "\n",
    "print(text_from_int)"
   ]
  }
 ],
 "metadata": {
  "kernelspec": {
   "display_name": ".venv",
   "language": "python",
   "name": "python3"
  },
  "language_info": {
   "codemirror_mode": {
    "name": "ipython",
    "version": 3
   },
   "file_extension": ".py",
   "mimetype": "text/x-python",
   "name": "python",
   "nbconvert_exporter": "python",
   "pygments_lexer": "ipython3",
   "version": "3.11.3"
  },
  "orig_nbformat": 4
 },
 "nbformat": 4,
 "nbformat_minor": 2
}
